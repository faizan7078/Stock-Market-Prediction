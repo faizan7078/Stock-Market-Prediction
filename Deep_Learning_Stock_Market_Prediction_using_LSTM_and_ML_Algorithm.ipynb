{
  "nbformat": 4,
  "nbformat_minor": 0,
  "metadata": {
    "colab": {
      "name": "Deep Learning : Stock Market Prediction using LSTM and ML Algorithm",
      "private_outputs": true,
      "provenance": []
    },
    "kernelspec": {
      "name": "python3",
      "display_name": "Python 3"
    },
    "language_info": {
      "name": "python"
    }
  },
  "cells": [
    {
      "cell_type": "code",
      "metadata": {
        "id": "Tauv5Ot4OR_w"
      },
      "source": [
        "#importing the libraries\n",
        "import math\n",
        "import numpy as np\n",
        "import pandas as pd\n",
        "from sklearn.preprocessing import MinMaxScaler\n",
        "from keras.models import Sequential\n",
        "from keras.layers import Dense, LSTM\n",
        "import matplotlib.pyplot as plt\n",
        "plt.style.use('fivethirtyeight')"
      ],
      "execution_count": null,
      "outputs": []
    },
    {
      "cell_type": "code",
      "metadata": {
        "id": "_Bx_gjCAG9cR"
      },
      "source": [
        "import os\n",
        "for dirname, _, filenames in os.walk('/kaggle/input'):\n",
        "    for filename in filenames:\n",
        "        print(os.path.join(dirname, filename))"
      ],
      "execution_count": null,
      "outputs": []
    },
    {
      "cell_type": "code",
      "metadata": {
        "id": "Zjr_xwPWHMkZ"
      },
      "source": [
        "\n",
        "data = pd.read_csv('/content/AAPL.csv')\n",
        "\n"
      ],
      "execution_count": null,
      "outputs": []
    },
    {
      "cell_type": "code",
      "metadata": {
        "id": "3sQfaHNsHMcf"
      },
      "source": [
        "data"
      ],
      "execution_count": null,
      "outputs": []
    },
    {
      "cell_type": "code",
      "metadata": {
        "id": "j-s73-ZRHMYH"
      },
      "source": [
        "data.isnull().sum()"
      ],
      "execution_count": null,
      "outputs": []
    },
    {
      "cell_type": "code",
      "metadata": {
        "id": "tAgcfYWZHMT6"
      },
      "source": [
        "data.shape"
      ],
      "execution_count": null,
      "outputs": []
    },
    {
      "cell_type": "markdown",
      "metadata": {
        "id": "9ieUbLdvJqQ4"
      },
      "source": [
        "**Let us graphically represent the closing prices of the stock.**"
      ]
    },
    {
      "cell_type": "code",
      "metadata": {
        "id": "9XZJSTbRHMR8"
      },
      "source": [
        "plt.figure(figsize=(16,8))\n",
        "plt.title('Closing Price of the Stock Historically')\n",
        "plt.plot(data['Close'])\n",
        "plt.xlabel('Year', fontsize=20)\n",
        "plt.ylabel('Closing Price Historically ($)', fontsize=20)\n",
        "plt.show()"
      ],
      "execution_count": null,
      "outputs": []
    },
    {
      "cell_type": "markdown",
      "metadata": {
        "id": "CiuHOXZEKGm8"
      },
      "source": [
        "**LSTM Algorithm**"
      ]
    },
    {
      "cell_type": "markdown",
      "metadata": {
        "id": "9lfVTBDhKNKw"
      },
      "source": [
        "We need to create a seperate dataframe with the \"close\" column"
      ]
    },
    {
      "cell_type": "code",
      "metadata": {
        "id": "ZpUqhkb2HMN6"
      },
      "source": [
        "data = data.filter(['Close'])\n",
        "dataset = data.values\n",
        "\n",
        "#Find out the number of rows that are present in this dataset in order to train our model.\n",
        "training_data_len = math.ceil(len(dataset)* .8)\n",
        "training_data_len"
      ],
      "execution_count": null,
      "outputs": []
    },
    {
      "cell_type": "markdown",
      "metadata": {
        "id": "Qltx7Fi_OvSp"
      },
      "source": [
        "Now, we need to scale the data"
      ]
    },
    {
      "cell_type": "code",
      "metadata": {
        "id": "qO75hNMhHML_"
      },
      "source": [
        "scaler = MinMaxScaler(feature_range=(0,1))\n",
        "scaled_data = scaler.fit_transform(dataset)\n",
        "scaled_data"
      ],
      "execution_count": null,
      "outputs": []
    },
    {
      "cell_type": "markdown",
      "metadata": {
        "id": "vJwIULJGO6xL"
      },
      "source": [
        "\n",
        "Create the training data for the model"
      ]
    },
    {
      "cell_type": "code",
      "metadata": {
        "id": "sRPOL9lSO_p9"
      },
      "source": [
        "train_data = scaled_data[0:training_data_len , :]\n",
        "x_train = []\n",
        "y_train = []\n",
        "\n",
        "for j in range(60, len(train_data)):\n",
        "    x_train.append(train_data[j-60:j,0])\n",
        "    y_train.append(train_data[j,0])\n",
        "    if j<=60:\n",
        "        print(x_train)\n",
        "        print(y_train)\n",
        "        print()"
      ],
      "execution_count": null,
      "outputs": []
    },
    {
      "cell_type": "code",
      "metadata": {
        "id": "QKxKYD-lO_nu"
      },
      "source": [
        "x_train, y_train = np.array(x_train), np.array(y_train)"
      ],
      "execution_count": null,
      "outputs": []
    },
    {
      "cell_type": "code",
      "metadata": {
        "id": "sbM-76jgO_l9"
      },
      "source": [
        "x_train = np.reshape(x_train, (x_train.shape[0], x_train.shape[1], 1))\n",
        "x_train.shape"
      ],
      "execution_count": null,
      "outputs": []
    },
    {
      "cell_type": "markdown",
      "metadata": {
        "id": "zpm5-_EePcE_"
      },
      "source": [
        "**Building the LSTM Model**"
      ]
    },
    {
      "cell_type": "code",
      "metadata": {
        "id": "vCvMLQ3wO_kD"
      },
      "source": [
        "model = Sequential()\n",
        "model.add(LSTM(50, return_sequences=True, input_shape = (x_train.shape[1], 1)))\n",
        "model.add(LSTM(50, return_sequences=False))\n",
        "model.add(Dense(25))\n",
        "model.add(Dense(1))"
      ],
      "execution_count": null,
      "outputs": []
    },
    {
      "cell_type": "code",
      "metadata": {
        "id": "-iGyBns_O_iT"
      },
      "source": [
        "model.compile(optimizer='adam', loss='mean_squared_error')"
      ],
      "execution_count": null,
      "outputs": []
    },
    {
      "cell_type": "markdown",
      "metadata": {
        "id": "Eagqhk4QPrpX"
      },
      "source": [
        "**Training the Model**"
      ]
    },
    {
      "cell_type": "code",
      "metadata": {
        "id": "HKXN9O0XO_ex"
      },
      "source": [
        "model.fit(x_train, y_train, batch_size=1, epochs=1)"
      ],
      "execution_count": null,
      "outputs": []
    },
    {
      "cell_type": "code",
      "metadata": {
        "id": "RrFFetlRO_Xa"
      },
      "source": [
        "test_data = scaled_data[training_data_len - 60: , :]\n",
        "x_test = []\n",
        "y_test = dataset[training_data_len:, :]\n",
        "\n",
        "for j in range(60, len(test_data)):\n",
        "    x_test.append(test_data[j-60:j, 0])"
      ],
      "execution_count": null,
      "outputs": []
    },
    {
      "cell_type": "code",
      "metadata": {
        "id": "G3ZoJkhvO_Tm"
      },
      "source": [
        "x_test = np.array(x_test)"
      ],
      "execution_count": null,
      "outputs": []
    },
    {
      "cell_type": "code",
      "metadata": {
        "id": "l1yDrj-qO_Ri"
      },
      "source": [
        "x_test = np.reshape(x_test, (x_test.shape[0], x_test.shape[1], 1))"
      ],
      "execution_count": null,
      "outputs": []
    },
    {
      "cell_type": "code",
      "metadata": {
        "id": "5AjPO0v3O_NH"
      },
      "source": [
        "predictions = model.predict(x_test)\n",
        "predictions = scaler.inverse_transform(predictions)"
      ],
      "execution_count": null,
      "outputs": []
    },
    {
      "cell_type": "markdown",
      "metadata": {
        "id": "bMlDrmEEQVy1"
      },
      "source": [
        "Finding out the Root Mean Squared Error"
      ]
    },
    {
      "cell_type": "code",
      "metadata": {
        "id": "mXgwAUIXO_LQ"
      },
      "source": [
        "rmse = np.sqrt( np.mean( predictions - y_test)**2)\n",
        "rmse"
      ],
      "execution_count": null,
      "outputs": []
    },
    {
      "cell_type": "markdown",
      "metadata": {
        "id": "VfCm-p1kQgET"
      },
      "source": [
        "**Plot the graph**"
      ]
    },
    {
      "cell_type": "code",
      "metadata": {
        "id": "wv-cwJfbO_Gv"
      },
      "source": [
        "train = data[:training_data_len]\n",
        "val = data[training_data_len:]\n",
        "val['Predictions'] = predictions\n",
        "\n",
        "plt.figure(figsize=(16,8))\n",
        "plt.title('LSTM Model Data')\n",
        "plt.xlabel('Date', fontsize=16)\n",
        "plt.ylabel('Close Price', fontsize=16)\n",
        "plt.plot(train['Close'])\n",
        "plt.plot(val[['Close', 'Predictions']])\n",
        "plt.legend(['Trained Dataset', 'Actual Value', 'Predictions'])\n",
        "plt.show()"
      ],
      "execution_count": null,
      "outputs": []
    },
    {
      "cell_type": "code",
      "metadata": {
        "id": "_K9XpnczO_E7"
      },
      "source": [
        "val.head(10)"
      ],
      "execution_count": null,
      "outputs": []
    },
    {
      "cell_type": "code",
      "metadata": {
        "id": "i5JEipBZRUrF"
      },
      "source": [
        "new_data = pd.read_csv('/content/AAPL.csv')\n",
        "new_data = data.filter(['Close'])\n",
        "last_60_days = new_data[-60:].values\n",
        "last_60_scaled = scaler.transform(last_60_days)\n",
        "X_test = []\n",
        "X_test.append(last_60_scaled)\n",
        "X_test = np.array(X_test)\n",
        "X_test = np.reshape(X_test, (X_test.shape[0], X_test.shape[1], 1))\n",
        "predicted_price = model.predict(X_test)\n",
        "predicted_price = scaler.inverse_transform(predicted_price)\n",
        "print('The predicted price of the final value of the dataset', predicted_price)"
      ],
      "execution_count": null,
      "outputs": []
    },
    {
      "cell_type": "code",
      "metadata": {
        "id": "it44tcZmSIDg"
      },
      "source": [
        "new_data.tail(1)"
      ],
      "execution_count": null,
      "outputs": []
    },
    {
      "cell_type": "code",
      "metadata": {
        "id": "edSTpmUNSIBu"
      },
      "source": [
        "#check predicted values\n",
        "predictions = model.predict(x_test) \n",
        "#Undo scaling\n",
        "predictions = scaler.inverse_transform(predictions)\n",
        "\n",
        "#Calculate RMSE score\n",
        "rmse=np.sqrt(np.mean(((predictions- y_test)**2)))\n",
        "rmse"
      ],
      "execution_count": null,
      "outputs": []
    },
    {
      "cell_type": "code",
      "metadata": {
        "id": "0wGVI72dSH8W"
      },
      "source": [
        "neww_data = pd.read_csv('/content/AAPL.csv')"
      ],
      "execution_count": null,
      "outputs": []
    },
    {
      "cell_type": "code",
      "metadata": {
        "id": "cPeHwRDzSH6Z"
      },
      "source": [
        "val.describe()"
      ],
      "execution_count": null,
      "outputs": []
    },
    {
      "cell_type": "code",
      "metadata": {
        "id": "GbKJg751SH1L"
      },
      "source": [
        "x = val.Close.mean()\n",
        "y = val.Predictions.mean()\n",
        "Accuracy = x/y*100\n",
        "print(\"The accuracy of the model is \" , Accuracy)"
      ],
      "execution_count": null,
      "outputs": []
    },
    {
      "cell_type": "markdown",
      "metadata": {
        "id": "9JUClfiSXSvd"
      },
      "source": [
        "**Regression Model**"
      ]
    },
    {
      "cell_type": "code",
      "metadata": {
        "id": "6zM5UghpSHy4"
      },
      "source": [
        "from sklearn import metrics\n",
        "%matplotlib inline\n",
        "import matplotlib.pyplot as plt\n",
        "import math"
      ],
      "execution_count": null,
      "outputs": []
    },
    {
      "cell_type": "code",
      "metadata": {
        "id": "YrSM5i7HXid2"
      },
      "source": [
        "data = pd.read_csv('/content/AAPL.csv')\n",
        "data"
      ],
      "execution_count": null,
      "outputs": []
    },
    {
      "cell_type": "code",
      "metadata": {
        "id": "QItOyYDxXiWU"
      },
      "source": [
        "plt.scatter(data.Date, data.Close,  color='blue')\n",
        "plt.xlabel(\"Time\")\n",
        "plt.ylabel(\"Close\")\n",
        "plt.show()"
      ],
      "execution_count": null,
      "outputs": []
    },
    {
      "cell_type": "code",
      "metadata": {
        "id": "r_yiQxc8XiT3"
      },
      "source": [
        "dataset.shape"
      ],
      "execution_count": null,
      "outputs": []
    },
    {
      "cell_type": "code",
      "metadata": {
        "id": "nsg7CDbTYfw2"
      },
      "source": [
        "data['Date'] = pd.to_datetime(data.Date)"
      ],
      "execution_count": null,
      "outputs": []
    },
    {
      "cell_type": "code",
      "metadata": {
        "id": "NTiQ9_-_Yfrm"
      },
      "source": [
        "data.head()"
      ],
      "execution_count": null,
      "outputs": []
    },
    {
      "cell_type": "code",
      "metadata": {
        "id": "RUmZ0bXuYfpM"
      },
      "source": [
        "data.describe()"
      ],
      "execution_count": null,
      "outputs": []
    },
    {
      "cell_type": "code",
      "metadata": {
        "id": "nvTXpNcbYfmy"
      },
      "source": [
        "print(len(data))"
      ],
      "execution_count": null,
      "outputs": []
    },
    {
      "cell_type": "code",
      "metadata": {
        "id": "hbJgW5-RYfkk"
      },
      "source": [
        "data['Close'].plot(figsize=(16,8))"
      ],
      "execution_count": null,
      "outputs": []
    },
    {
      "cell_type": "code",
      "metadata": {
        "id": "5fPHBrgQYffJ"
      },
      "source": [
        "x1 = data[['Open', 'High','Low', 'Volume']]\n",
        "y1 = data['Close']"
      ],
      "execution_count": null,
      "outputs": []
    },
    {
      "cell_type": "code",
      "metadata": {
        "id": "Z0OlmJhLYfc9"
      },
      "source": [
        "from sklearn.model_selection import train_test_split\n",
        "x1_train, x1_test, y1_train, y1_test = train_test_split(x1, y1, random_state = 0)"
      ],
      "execution_count": null,
      "outputs": []
    },
    {
      "cell_type": "code",
      "metadata": {
        "id": "pZT6JPw3ZXc-"
      },
      "source": [
        "x1_train.shape"
      ],
      "execution_count": null,
      "outputs": []
    },
    {
      "cell_type": "code",
      "metadata": {
        "id": "1yWiYDvWZXa_"
      },
      "source": [
        "x1_test.shape"
      ],
      "execution_count": null,
      "outputs": []
    },
    {
      "cell_type": "code",
      "metadata": {
        "id": "aOc4xvr8ZXY-"
      },
      "source": [
        "from sklearn.linear_model import LinearRegression\n",
        "from sklearn.metrics import confusion_matrix, accuracy_score\n",
        "regression = LinearRegression()"
      ],
      "execution_count": null,
      "outputs": []
    },
    {
      "cell_type": "code",
      "metadata": {
        "id": "1H2IgvQMZXW5"
      },
      "source": [
        "regression.fit(x1_train, y1_train)"
      ],
      "execution_count": null,
      "outputs": []
    },
    {
      "cell_type": "code",
      "metadata": {
        "id": "s7OnAPYfZXQZ"
      },
      "source": [
        ""
      ],
      "execution_count": null,
      "outputs": []
    },
    {
      "cell_type": "code",
      "metadata": {
        "id": "XGLdhD7fZXOC"
      },
      "source": [
        "print(regression.coef_)"
      ],
      "execution_count": null,
      "outputs": []
    },
    {
      "cell_type": "code",
      "metadata": {
        "id": "N5hPALY6ZXLr"
      },
      "source": [
        "print(regression.intercept_)"
      ],
      "execution_count": null,
      "outputs": []
    },
    {
      "cell_type": "code",
      "metadata": {
        "id": "FETKQ_ckZXJN"
      },
      "source": [
        "predicted=regression.predict(x1_test)\n",
        "\n"
      ],
      "execution_count": null,
      "outputs": []
    },
    {
      "cell_type": "code",
      "metadata": {
        "id": "PqeLOOQlZXDw"
      },
      "source": [
        "print(x1_test)"
      ],
      "execution_count": null,
      "outputs": []
    },
    {
      "cell_type": "code",
      "metadata": {
        "id": "7SeyOcppZXBZ"
      },
      "source": [
        "predicted.shape"
      ],
      "execution_count": null,
      "outputs": []
    },
    {
      "cell_type": "code",
      "metadata": {
        "id": "Q0Prl8N9aevb"
      },
      "source": [
        "dframe = pd.DataFrame(y1_test,predicted)\n",
        "dfr=pd.DataFrame({'Actual_Price':y1_test, 'Predicted_Price':predicted})\n",
        "print(dfr)"
      ],
      "execution_count": null,
      "outputs": []
    },
    {
      "cell_type": "code",
      "metadata": {
        "id": "S3XYAtKVaeq1"
      },
      "source": [
        "dfr.head(10)"
      ],
      "execution_count": null,
      "outputs": []
    },
    {
      "cell_type": "code",
      "metadata": {
        "id": "TtqtxjqGaejc"
      },
      "source": [
        "from sklearn.metrics import confusion_matrix, accuracy_score"
      ],
      "execution_count": null,
      "outputs": []
    },
    {
      "cell_type": "code",
      "metadata": {
        "id": "ggbqiK4paehB"
      },
      "source": [
        "regression.score(x1_test, y1_test)"
      ],
      "execution_count": null,
      "outputs": []
    },
    {
      "cell_type": "code",
      "metadata": {
        "id": "SahOGHYCaeeJ"
      },
      "source": [
        "print('Mean Absolute Error:', metrics.mean_absolute_error(y1_test, predicted))\n",
        "print('Mean Squared Error:', metrics.mean_squared_error(y1_test, predicted))\n",
        "print('Root Mean Squared Error:', np.sqrt(metrics.mean_squared_error(y1_test, predicted)))"
      ],
      "execution_count": null,
      "outputs": []
    },
    {
      "cell_type": "code",
      "metadata": {
        "id": "gwiBC7LOaeb3"
      },
      "source": [
        "dfr.describe()"
      ],
      "execution_count": null,
      "outputs": []
    },
    {
      "cell_type": "code",
      "metadata": {
        "id": "KJJWgu3SaeZc"
      },
      "source": [
        "x2 = dfr.Actual_Price.mean()\n",
        "y2 = dfr.Predicted_Price.mean()\n",
        "Accuracy1 = x2/y2*100\n",
        "print(\"The accuracy of the model is \" , Accuracy1)"
      ],
      "execution_count": null,
      "outputs": []
    },
    {
      "cell_type": "code",
      "metadata": {
        "id": "7OXCUfXTaeXN"
      },
      "source": [
        "plt.scatter(dfr.Actual_Price, dfr.Predicted_Price,  color='red')\n",
        "plt.xlabel(\"Actual Price\")\n",
        "plt.ylabel(\"Predicted Price\")\n",
        "\n",
        "plt.show()"
      ],
      "execution_count": null,
      "outputs": []
    },
    {
      "cell_type": "code",
      "metadata": {
        "id": "_uhmCdeAaeQz"
      },
      "source": [
        ""
      ],
      "execution_count": null,
      "outputs": []
    },
    {
      "cell_type": "code",
      "metadata": {
        "id": "-xDYHGFiaeOe"
      },
      "source": [
        ""
      ],
      "execution_count": null,
      "outputs": []
    }
  ]
}